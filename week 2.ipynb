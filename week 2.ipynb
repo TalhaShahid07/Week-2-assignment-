{
 "cells": [
  {
   "cell_type": "code",
   "execution_count": null,
   "id": "14a14ebb-ecc1-412a-9308-6cfbf7f9be74",
   "metadata": {},
   "outputs": [],
   "source": [
    "'''\n",
    "    week 2 assignment of python internship...\n",
    "\n",
    "    Talha Shahid\n",
    "    ''''\n"
   ]
  },
  {
   "cell_type": "code",
   "execution_count": null,
   "id": "a6f4f6bf-039d-4859-b473-436df211ae78",
   "metadata": {},
   "outputs": [],
   "source": [
    "'''\n",
    "        Assignment 2: Working with Lists, Tuples,\n",
    "and Dictionaries\n",
    "'''"
   ]
  },
  {
   "cell_type": "code",
   "execution_count": 3,
   "id": "39bd23fc-3717-40bb-9041-9c59427ddcfd",
   "metadata": {},
   "outputs": [
    {
     "name": "stdout",
     "output_type": "stream",
     "text": [
      "choose options\n",
      "1. Add students\n",
      "2. Remove students\n",
      "3. Display the students\n",
      "4. Exit the Program\n"
     ]
    },
    {
     "name": "stdin",
     "output_type": "stream",
     "text": [
      "Enter your choice 1\n",
      "Enter the Student name: talha\n"
     ]
    },
    {
     "name": "stdout",
     "output_type": "stream",
     "text": [
      "talha have been added to the list.\n",
      "choose options\n",
      "1. Add students\n",
      "2. Remove students\n",
      "3. Display the students\n",
      "4. Exit the Program\n"
     ]
    },
    {
     "name": "stdin",
     "output_type": "stream",
     "text": [
      "Enter your choice 3\n"
     ]
    },
    {
     "ename": "NameError",
     "evalue": "name 'display_students' is not defined",
     "output_type": "error",
     "traceback": [
      "\u001b[1;31m---------------------------------------------------------------------------\u001b[0m",
      "\u001b[1;31mNameError\u001b[0m                                 Traceback (most recent call last)",
      "Cell \u001b[1;32mIn[3], line 35\u001b[0m\n\u001b[0;32m     33\u001b[0m     remove_student(name)\n\u001b[0;32m     34\u001b[0m \u001b[38;5;28;01melif\u001b[39;00m choice \u001b[38;5;241m==\u001b[39m \u001b[38;5;124m\"\u001b[39m\u001b[38;5;124m3\u001b[39m\u001b[38;5;124m\"\u001b[39m:\n\u001b[1;32m---> 35\u001b[0m     display_students()\n\u001b[0;32m     36\u001b[0m \u001b[38;5;28;01melif\u001b[39;00m choice \u001b[38;5;241m==\u001b[39m \u001b[38;5;124m\"\u001b[39m\u001b[38;5;124m4\u001b[39m\u001b[38;5;124m\"\u001b[39m:\n\u001b[0;32m     37\u001b[0m     \u001b[38;5;28mprint\u001b[39m(\u001b[38;5;124m\"\u001b[39m\u001b[38;5;124mExiting the program.\u001b[39m\u001b[38;5;124m\"\u001b[39m)\n",
      "\u001b[1;31mNameError\u001b[0m: name 'display_students' is not defined"
     ]
    }
   ],
   "source": [
    "# Exercise 1.\n",
    "    \n",
    "#create  a program that manages a list of students names,allowing the user to add, remove, and display the list.\n",
    "students =[]\n",
    "def add_student(name):\n",
    "    students.append(name)\n",
    "    print(f\"{name} have been added to the list.\")\n",
    "def remove_student(name):\n",
    "    if name in students:\n",
    "        students.remove(name)\n",
    "        print(f\"{name} has been removed from the list.\")\n",
    "    else:\n",
    "        print(f\"{name} is not in the list.\")\n",
    "def display_student():\n",
    "    if students:\n",
    "        print(\"List of students:\")\n",
    "        for student in students:\n",
    "            print(student)\n",
    "    else:\n",
    "        print(\"The list is empty.\")\n",
    "while True:\n",
    "    print(\"choose options\")\n",
    "    print(\"1. Add students\")\n",
    "    print(\"2. Remove students\")\n",
    "    print(\"3. Display the students\")\n",
    "    print(\"4. Exit the Program\")\n",
    "    \n",
    "    choice = input(\"Enter your choice\")\n",
    "    \n",
    "    if choice == \"1\":\n",
    "        name = input(\"Enter the Student name:\")\n",
    "        add_student(name)\n",
    "    elif choice == \"2\":\n",
    "        name = input(\"Enter the student name: \")\n",
    "        remove_student(name)\n",
    "    elif choice == \"3\":\n",
    "        display_students()\n",
    "    elif choice == \"4\":\n",
    "        print(\"Exiting the program.\")\n",
    "        break\n",
    "    else:\n",
    "        print(\"Invalid input. Please try again.\")\n"
   ]
  },
  {
   "cell_type": "code",
   "execution_count": 5,
   "id": "d36e30d3-36e0-4721-8bba-a4c446d13d2a",
   "metadata": {},
   "outputs": [
    {
     "name": "stdout",
     "output_type": "stream",
     "text": [
      "\n",
      "Choose an option:\n",
      "1. Add student\n",
      "2. Remove student\n",
      "3. Display students\n",
      "4. Exit the program\n"
     ]
    },
    {
     "name": "stdin",
     "output_type": "stream",
     "text": [
      "Enter your choice:  1\n",
      "Enter the student name:  talha\n"
     ]
    },
    {
     "name": "stdout",
     "output_type": "stream",
     "text": [
      "talha has been added to the list.\n",
      "\n",
      "Choose an option:\n",
      "1. Add student\n",
      "2. Remove student\n",
      "3. Display students\n",
      "4. Exit the program\n"
     ]
    },
    {
     "name": "stdin",
     "output_type": "stream",
     "text": [
      "Enter your choice:  1\n",
      "Enter the student name:  ali\n"
     ]
    },
    {
     "name": "stdout",
     "output_type": "stream",
     "text": [
      "ali has been added to the list.\n",
      "\n",
      "Choose an option:\n",
      "1. Add student\n",
      "2. Remove student\n",
      "3. Display students\n",
      "4. Exit the program\n"
     ]
    },
    {
     "name": "stdin",
     "output_type": "stream",
     "text": [
      "Enter your choice:  3\n"
     ]
    },
    {
     "name": "stdout",
     "output_type": "stream",
     "text": [
      "List of students:\n",
      "talha\n",
      "ali\n",
      "\n",
      "Choose an option:\n",
      "1. Add student\n",
      "2. Remove student\n",
      "3. Display students\n",
      "4. Exit the program\n"
     ]
    },
    {
     "name": "stdin",
     "output_type": "stream",
     "text": [
      "Enter your choice:  2\n",
      "Enter the student name:  ali\n"
     ]
    },
    {
     "name": "stdout",
     "output_type": "stream",
     "text": [
      "ali has been removed from the list.\n",
      "\n",
      "Choose an option:\n",
      "1. Add student\n",
      "2. Remove student\n",
      "3. Display students\n",
      "4. Exit the program\n"
     ]
    },
    {
     "name": "stdin",
     "output_type": "stream",
     "text": [
      "Enter your choice:  3\n"
     ]
    },
    {
     "name": "stdout",
     "output_type": "stream",
     "text": [
      "List of students:\n",
      "talha\n",
      "\n",
      "Choose an option:\n",
      "1. Add student\n",
      "2. Remove student\n",
      "3. Display students\n",
      "4. Exit the program\n"
     ]
    },
    {
     "name": "stdin",
     "output_type": "stream",
     "text": [
      "Enter your choice:  e\n"
     ]
    },
    {
     "name": "stdout",
     "output_type": "stream",
     "text": [
      "Invalid input. Please try again.\n",
      "\n",
      "Choose an option:\n",
      "1. Add student\n",
      "2. Remove student\n",
      "3. Display students\n",
      "4. Exit the program\n"
     ]
    },
    {
     "name": "stdin",
     "output_type": "stream",
     "text": [
      "Enter your choice:  4\n"
     ]
    },
    {
     "name": "stdout",
     "output_type": "stream",
     "text": [
      "Exiting the program.\n"
     ]
    }
   ],
   "source": [
    "students = []\n",
    "\n",
    "def add_student(name):\n",
    "    students.append(name)\n",
    "    print(f\"{name} has been added to the list.\")\n",
    "\n",
    "def remove_student(name):\n",
    "    if name in students:\n",
    "        students.remove(name)\n",
    "        print(f\"{name} has been removed from the list.\")\n",
    "    else:\n",
    "        print(f\"{name} is not in the list.\")\n",
    "\n",
    "def display_students():\n",
    "    if students:\n",
    "        print(\"List of students:\")\n",
    "        for student in students:\n",
    "            print(student)\n",
    "    else:\n",
    "        print(\"The list is empty.\")\n",
    "\n",
    "while True:\n",
    "    print(\"\\nChoose an option:\")\n",
    "    print(\"1. Add student\")\n",
    "    print(\"2. Remove student\")\n",
    "    print(\"3. Display students\")\n",
    "    print(\"4. Exit the program\")\n",
    "    \n",
    "    choice = input(\"Enter your choice: \")\n",
    "    \n",
    "    if choice == \"1\":\n",
    "        name = input(\"Enter the student name: \")\n",
    "        add_student(name)\n",
    "    elif choice == \"2\":\n",
    "        name = input(\"Enter the student name: \")\n",
    "        remove_student(name)\n",
    "    elif choice == \"3\":\n",
    "        display_students()\n",
    "    elif choice == \"4\":\n",
    "        print(\"Exiting the program.\")\n",
    "        break\n",
    "    else:\n",
    "        print(\"Invalid input. Please try again.\")\n"
   ]
  },
  {
   "cell_type": "code",
   "execution_count": 6,
   "id": "c921d83d-d36e-4eb0-a4f6-a47753a2cc67",
   "metadata": {},
   "outputs": [
    {
     "name": "stdin",
     "output_type": "stream",
     "text": [
      "Enter the text to analyze:  talha shhaid maqsood ah,mad chaudary\n"
     ]
    },
    {
     "name": "stdout",
     "output_type": "stream",
     "text": [
      "\n",
      "Word Frequencies:\n",
      "talha: 1\n",
      "shhaid: 1\n",
      "maqsood: 1\n",
      "ah,mad: 1\n",
      "chaudary: 1\n"
     ]
    }
   ],
   "source": [
    "# question 2\n",
    "\n",
    "# Task 2: Count the Frequency of Words in a Given Text\n",
    "\n",
    "def count_word_frequency(text):\n",
    "    # Convert the text to lowercase and split into words\n",
    "    words = text.lower().split()\n",
    "    \n",
    "    # Create a dictionary to store word frequencies\n",
    "    word_count = {}\n",
    "    \n",
    "    for word in words:\n",
    "        if word in word_count:\n",
    "            word_count[word] += 1\n",
    "        else:\n",
    "            word_count[word] = 1\n",
    "    \n",
    "    return word_count\n",
    "\n",
    "def main():\n",
    "    text = input(\"Enter the text to analyze: \")\n",
    "    word_count = count_word_frequency(text)\n",
    "    \n",
    "    print(\"\\nWord Frequencies:\")\n",
    "    for word, count in word_count.items():\n",
    "        print(f\"{word}: {count}\")\n",
    "\n",
    "if __name__ == \"__main__\":\n",
    "    main()\n"
   ]
  },
  {
   "cell_type": "code",
   "execution_count": 10,
   "id": "0d777e74-db1b-436b-92e3-a320de0664aa",
   "metadata": {},
   "outputs": [
    {
     "name": "stdout",
     "output_type": "stream",
     "text": [
      "Original tuple: (1, 2, 3, 5, 6, 11, 3, 66, 33, 8, 10)\n",
      "Filtered tuple with even numbers: (2, 6, 66, 8, 10)\n"
     ]
    }
   ],
   "source": [
    "# Question 3\n",
    "\n",
    "# Task 3: Filter Even Numbers from a Tuple\n",
    "\n",
    "def filter_even_numbers(numbers):\n",
    "    # Use a tuple comprehension to filter even numbers\n",
    "    return tuple(num for num in numbers if num % 2 == 0)\n",
    "\n",
    "def main():\n",
    "    # Example tuple\n",
    "    numbers = (1, 2, 3, 5, 6, 11, 3, 66 , 33, 8, 10)\n",
    "    \n",
    "    print(f\"Original tuple: {numbers}\")\n",
    "    even_numbers = filter_even_numbers(numbers)\n",
    "    \n",
    "    print(f\"Filtered tuple with even numbers: {even_numbers}\")\n",
    "\n",
    "if __name__ == \"__main__\":\n",
    "    main()\n"
   ]
  },
  {
   "cell_type": "code",
   "execution_count": null,
   "id": "e38e1b45-aed0-4f16-82ea-87783dfa51b2",
   "metadata": {},
   "outputs": [],
   "source": []
  }
 ],
 "metadata": {
  "kernelspec": {
   "display_name": "Python 3 (ipykernel)",
   "language": "python",
   "name": "python3"
  },
  "language_info": {
   "codemirror_mode": {
    "name": "ipython",
    "version": 3
   },
   "file_extension": ".py",
   "mimetype": "text/x-python",
   "name": "python",
   "nbconvert_exporter": "python",
   "pygments_lexer": "ipython3",
   "version": "3.12.4"
  }
 },
 "nbformat": 4,
 "nbformat_minor": 5
}
